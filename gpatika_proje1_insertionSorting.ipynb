{
 "cells": [
  {
   "cell_type": "code",
   "execution_count": 1,
   "metadata": {},
   "outputs": [
    {
     "name": "stdout",
     "output_type": "stream",
     "text": [
      " 2\n",
      " 6\n",
      " 16\n",
      " 18\n",
      " 22\n",
      " 27\n"
     ]
    }
   ],
   "source": [
    "#insertion Sorting\n",
    "\n",
    "def insertionSort(arr):\n",
    "    for i in range(1, len(arr)):\n",
    " \n",
    "        key = arr[i]\n",
    "        \n",
    "        j = i-1\n",
    "        while j >= 0 and key < arr[j] :\n",
    "                arr[j + 1] = arr[j]\n",
    "                j -= 1\n",
    "        arr[j + 1] = key\n",
    "        \n",
    "        \n",
    "arr = [22,27,16,2,18,6]\n",
    "insertionSort(arr)\n",
    "for i in range(len(arr)):\n",
    "    print (\"% d\" % arr[i])"
   ]
  },
  {
   "cell_type": "markdown",
   "metadata": {},
   "source": [
    "Yukarı verilen dizinin sort türüne göre aşamalarını yazınız.\n",
    "\n",
    "sirayla birer birer kontrol edip yaziliyor.\n",
    "\n",
    "\n",
    "\n",
    "Big-O gösterimini yazınız.\n",
    "\n",
    "O(n)\n",
    "Time Complexity: Average case: Aradığımız sayının ortada olması,Worst case: Aradığımız sayının sonda olması, Best case: A\n",
    "Bu kismi anlayamadim.\n",
    "Aradığımız sayının dizinin en başında olması.\n",
    "Dizi sıralandıktan sonra 18 sayısı hangi case kapsamına girer? Yazınız.\n",
    "Worst"
   ]
  }
 ],
 "metadata": {
  "kernelspec": {
   "display_name": "Python 3",
   "language": "python",
   "name": "python3"
  },
  "language_info": {
   "codemirror_mode": {
    "name": "ipython",
    "version": 3
   },
   "file_extension": ".py",
   "mimetype": "text/x-python",
   "name": "python",
   "nbconvert_exporter": "python",
   "pygments_lexer": "ipython3",
   "version": "3.8.5"
  }
 },
 "nbformat": 4,
 "nbformat_minor": 4
}
