{
 "cells": [
  {
   "cell_type": "code",
   "execution_count": 6,
   "metadata": {},
   "outputs": [
    {
     "name": "stdout",
     "output_type": "stream",
     "text": [
      "0\n",
      "1\n",
      "2\n",
      "3\n",
      "4\n",
      "5\n",
      "6\n",
      "7\n",
      "8\n",
      "9\n"
     ]
    }
   ],
   "source": [
    "# Python program to demonstrate\n",
    "# insert operation in binary search tree\n",
    " \n",
    "# A utility class that represents\n",
    "# an individual node in a BST\n",
    " \n",
    " \n",
    "class Node:\n",
    "    def __init__(self, key):\n",
    "        self.left = None\n",
    "        self.right = None\n",
    "        self.val = key\n",
    " \n",
    "# A utility function to insert\n",
    "# a new node with the given key\n",
    " \n",
    " \n",
    "def insert(root, key):\n",
    "    if root is None:\n",
    "        return Node(key)\n",
    "    else:\n",
    "        if root.val == key:\n",
    "            return root\n",
    "        elif root.val < key:\n",
    "            root.right = insert(root.right, key)\n",
    "        else:\n",
    "            root.left = insert(root.left, key)\n",
    "    return root\n",
    " \n",
    "# A utility function to do inorder tree traversal\n",
    " \n",
    " \n",
    "def inorder(root):\n",
    "    if root:\n",
    "        inorder(root.left)\n",
    "        print(root.val)\n",
    "        inorder(root.right)\n",
    " \n",
    " \n",
    "# Driver program to test the above functions\n",
    "# Let us create the following BST\n",
    "#    50\n",
    "#  /     \\\n",
    "# 30     70\n",
    "#  / \\ / \\\n",
    "# 20 40 60 80\n",
    " \n",
    "r = Node(3)\n",
    "r = insert(r, 7)\n",
    "r = insert(r, 5)\n",
    "r = insert(r, 1)\n",
    "r = insert(r, 8)\n",
    "r = insert(r, 6)\n",
    "r = insert(r, 0)\n",
    "\n",
    "r = insert(r, 9)\n",
    "r = insert(r, 4)\n",
    "r = insert(r, 2)\n",
    " \n",
    "# Print inoder traversal of the BST\n",
    "inorder(r)"
   ]
  },
  {
   "cell_type": "markdown",
   "metadata": {},
   "source": [
    "burada bir tanesi kok olarak secilip ilerleniyor. digerleri dallar seklinde dallana dallana gidiliyor."
   ]
  }
 ],
 "metadata": {
  "kernelspec": {
   "display_name": "Python 3",
   "language": "python",
   "name": "python3"
  },
  "language_info": {
   "codemirror_mode": {
    "name": "ipython",
    "version": 3
   },
   "file_extension": ".py",
   "mimetype": "text/x-python",
   "name": "python",
   "nbconvert_exporter": "python",
   "pygments_lexer": "ipython3",
   "version": "3.8.5"
  }
 },
 "nbformat": 4,
 "nbformat_minor": 4
}
